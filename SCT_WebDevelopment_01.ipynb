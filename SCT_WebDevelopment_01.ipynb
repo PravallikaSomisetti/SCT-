{
  "cells": [
    {
      "cell_type": "markdown",
      "metadata": {
        "id": "view-in-github",
        "colab_type": "text"
      },
      "source": [
        "<a href=\"https://colab.research.google.com/github/PravallikaSomisetti/SCT-/blob/main/SCT_WebDevelopment_01.ipynb\" target=\"_parent\"><img src=\"https://colab.research.google.com/assets/colab-badge.svg\" alt=\"Open In Colab\"/></a>"
      ]
    },
    {
      "cell_type": "code",
      "execution_count": null,
      "metadata": {
        "colab": {
          "base_uri": "https://localhost:8080/"
        },
        "id": "I5spHDiEvQMr",
        "outputId": "6d93d459-235a-417b-c132-070b9217e681"
      },
      "outputs": [
        {
          "output_type": "stream",
          "name": "stdout",
          "text": [
            "Choose input scale: Celsius, Fahrenheit, or Kelvin\n",
            "Enter scale: Celsius\n",
            "Enter temperature: 100\n",
            "Fahrenheit: 212.0\n",
            "Kelvin: 373.15\n"
          ]
        }
      ],
      "source": [
        "def celsius_to_fahrenheit(c):\n",
        "    return (c * 9/5) + 32\n",
        "\n",
        "def celsius_to_kelvin(c):\n",
        "    return c + 273.15\n",
        "\n",
        "def fahrenheit_to_celsius(f):\n",
        "    return (f - 32) * 5/9\n",
        "\n",
        "def fahrenheit_to_kelvin(f):\n",
        "    return (f - 32) * 5/9 + 273.15\n",
        "\n",
        "def kelvin_to_celsius(k):\n",
        "    return k - 273.15\n",
        "\n",
        "def kelvin_to_fahrenheit(k):\n",
        "    return (k - 273.15) * 9/5 + 32\n",
        "\n",
        "# Input from user\n",
        "print(\"Choose input scale: Celsius, Fahrenheit, or Kelvin\")\n",
        "scale = input(\"Enter scale: \").lower()\n",
        "temp = float(input(\"Enter temperature: \"))\n",
        "\n",
        "if scale == \"celsius\":\n",
        "    print(\"Fahrenheit:\", celsius_to_fahrenheit(temp))\n",
        "    print(\"Kelvin:\", celsius_to_kelvin(temp))\n",
        "\n",
        "elif scale == \"fahrenheit\":\n",
        "    print(\"Celsius:\", fahrenheit_to_celsius(temp))\n",
        "    print(\"Kelvin:\", fahrenheit_to_kelvin(temp))\n",
        "\n",
        "elif scale == \"kelvin\":\n",
        "    print(\"Celsius:\", kelvin_to_celsius(temp))\n",
        "    print(\"Fahrenheit:\", kelvin_to_fahrenheit(temp))\n",
        "\n",
        "else:\n",
        "    print(\"Invalid scale entered.\")"
      ]
    }
  ],
  "metadata": {
    "colab": {
      "provenance": [],
      "authorship_tag": "ABX9TyOq0Ks76VwyQEORSr35GMGI",
      "include_colab_link": true
    },
    "kernelspec": {
      "display_name": "Python 3",
      "name": "python3"
    },
    "language_info": {
      "name": "python"
    }
  },
  "nbformat": 4,
  "nbformat_minor": 0
}