{
  "nbformat": 4,
  "nbformat_minor": 0,
  "metadata": {
    "colab": {
      "provenance": [],
      "authorship_tag": "ABX9TyMImZj4UaYeqyFW9u8m9/iU",
      "include_colab_link": true
    },
    "kernelspec": {
      "name": "python3",
      "display_name": "Python 3"
    },
    "language_info": {
      "name": "python"
    }
  },
  "cells": [
    {
      "cell_type": "markdown",
      "metadata": {
        "id": "view-in-github",
        "colab_type": "text"
      },
      "source": [
        "<a href=\"https://colab.research.google.com/github/PravallikaSomisetti/SCT-/blob/main/SCT_WebDevelopment_02.ipynb\" target=\"_parent\"><img src=\"https://colab.research.google.com/assets/colab-badge.svg\" alt=\"Open In Colab\"/></a>"
      ]
    },
    {
      "cell_type": "code",
      "execution_count": null,
      "metadata": {
        "colab": {
          "base_uri": "https://localhost:8080/"
        },
        "id": "DqO0WySO5zVI",
        "outputId": "553c5252-4408-4162-d6fd-dbd6433c47c5"
      },
      "outputs": [
        {
          "output_type": "stream",
          "name": "stdout",
          "text": [
            "Welcome to the Number Guessing Game!\n",
            "I'm thinking of a number between 1 and 100.\n",
            "Enter your guess: 50\n",
            "Too high! Try again.\n",
            "Enter your guess: 40\n",
            "Too high! Try again.\n",
            "Enter your guess: 30\n",
            "Too high! Try again.\n",
            "Enter your guess: 25\n",
            "Too high! Try again.\n",
            "Enter your guess: 20\n",
            "Too high! Try again.\n",
            "Enter your guess: 10\n",
            "Too high! Try again.\n",
            "Enter your guess: 7\n",
            "Congratulations! You guessed the number correctly.\n"
          ]
        }
      ],
      "source": [
        "import random\n",
        "\n",
        "number_to_guess = random.randint(1, 100)\n",
        "\n",
        "print(\"Welcome to the Number Guessing Game!\")\n",
        "print(\"I'm thinking of a number between 1 and 100.\")\n",
        "\n",
        "while True:\n",
        "    user_guess = int(input(\"Enter your guess: \"))\n",
        "\n",
        "    if user_guess < number_to_guess:\n",
        "        print(\"Too low! Try again.\")\n",
        "    elif user_guess > number_to_guess:\n",
        "        print(\"Too high! Try again.\")\n",
        "    else:\n",
        "        print(\"Congratulations! You guessed the number correctly.\")\n",
        "        break"
      ]
    }
  ]
}