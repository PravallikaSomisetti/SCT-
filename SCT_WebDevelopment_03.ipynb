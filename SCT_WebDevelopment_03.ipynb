{
  "nbformat": 4,
  "nbformat_minor": 0,
  "metadata": {
    "colab": {
      "provenance": [],
      "authorship_tag": "ABX9TyOX3pBn/oqwXISKrWRvkZ5y",
      "include_colab_link": true
    },
    "kernelspec": {
      "name": "python3",
      "display_name": "Python 3"
    },
    "language_info": {
      "name": "python"
    }
  },
  "cells": [
    {
      "cell_type": "markdown",
      "metadata": {
        "id": "view-in-github",
        "colab_type": "text"
      },
      "source": [
        "<a href=\"https://colab.research.google.com/github/PravallikaSomisetti/SCT-/blob/main/SCT_WebDevelopment_03.ipynb\" target=\"_parent\"><img src=\"https://colab.research.google.com/assets/colab-badge.svg\" alt=\"Open In Colab\"/></a>"
      ]
    },
    {
      "cell_type": "code",
      "execution_count": null,
      "metadata": {
        "colab": {
          "base_uri": "https://localhost:8080/"
        },
        "id": "SKke5l6a82-R",
        "outputId": "ae66314b-0643-4d86-fd92-53a93153f4e5"
      },
      "outputs": [
        {
          "output_type": "stream",
          "name": "stdout",
          "text": [
            "Original Sudoku Puzzle:\n",
            "\n",
            "5 3 . | . 7 . | . . . \n",
            "6 . . | 1 9 5 | . . . \n",
            ". 9 8 | . . . | . 6 . \n",
            "---------------------\n",
            "8 . . | . 6 . | . . 3 \n",
            "4 . . | 8 . 3 | . . 1 \n",
            "7 . . | . 2 . | . . 6 \n",
            "---------------------\n",
            ". 6 . | . . . | 2 8 . \n",
            ". . . | 4 1 9 | . . 5 \n",
            ". . . | . 8 . | . 7 9 \n",
            "\n",
            "Solved Sudoku Puzzle:\n",
            "\n",
            "5 3 4 | 6 7 8 | 9 1 2 \n",
            "6 7 2 | 1 9 5 | 3 4 8 \n",
            "1 9 8 | 3 4 2 | 5 6 7 \n",
            "---------------------\n",
            "8 5 9 | 7 6 1 | 4 2 3 \n",
            "4 2 6 | 8 5 3 | 7 9 1 \n",
            "7 1 3 | 9 2 4 | 8 5 6 \n",
            "---------------------\n",
            "9 6 1 | 5 3 7 | 2 8 4 \n",
            "2 8 7 | 4 1 9 | 6 3 5 \n",
            "3 4 5 | 2 8 6 | 1 7 9 \n"
          ]
        }
      ],
      "source": [
        "# Sudoku Solver using Backtracking Algorithm\n",
        "\n",
        "def print_board(board):\n",
        "    \"\"\"Function to print the Sudoku board in a readable format.\"\"\"\n",
        "    for i in range(9):\n",
        "        if i % 3 == 0 and i != 0:\n",
        "            print(\"-\" * 21)\n",
        "        for j in range(9):\n",
        "            if j % 3 == 0 and j != 0:\n",
        "                print(\"|\", end=\" \")\n",
        "            print(board[i][j] if board[i][j] != 0 else \".\", end=\" \")\n",
        "        print()\n",
        "\n",
        "\n",
        "def is_valid(board, row, col, num):\n",
        "    \"\"\"Check if 'num' can be placed at board[row][col] without breaking Sudoku rules.\"\"\"\n",
        "    # Check row\n",
        "    if num in board[row]:\n",
        "        return False\n",
        "\n",
        "    # Check column\n",
        "    for i in range(9):\n",
        "        if board[i][col] == num:\n",
        "            return False\n",
        "\n",
        "    # Check 3x3 box\n",
        "    box_start_row = (row // 3) * 3\n",
        "    box_start_col = (col // 3) * 3\n",
        "\n",
        "    for i in range(3):\n",
        "        for j in range(3):\n",
        "            if board[box_start_row + i][box_start_col + j] == num:\n",
        "                return False\n",
        "\n",
        "    return True\n",
        "\n",
        "\n",
        "def solve(board):\n",
        "    \"\"\"Recursive backtracking function to solve the Sudoku puzzle.\"\"\"\n",
        "    for row in range(9):\n",
        "        for col in range(9):\n",
        "            if board[row][col] == 0:  # Empty cell\n",
        "                for num in range(1, 10):\n",
        "                    if is_valid(board, row, col, num):\n",
        "                        board[row][col] = num\n",
        "\n",
        "                        if solve(board):\n",
        "                            return True\n",
        "\n",
        "                        board[row][col] = 0  # Backtrack\n",
        "\n",
        "                return False  # No valid number found\n",
        "    return True\n",
        "\n",
        "\n",
        "# Sample Sudoku Puzzle (0 means empty)\n",
        "board = [\n",
        "    [5, 3, 0, 0, 7, 0, 0, 0, 0],\n",
        "    [6, 0, 0, 1, 9, 5, 0, 0, 0],\n",
        "    [0, 9, 8, 0, 0, 0, 0, 6, 0],\n",
        "    [8, 0, 0, 0, 6, 0, 0, 0, 3],\n",
        "    [4, 0, 0, 8, 0, 3, 0, 0, 1],\n",
        "    [7, 0, 0, 0, 2, 0, 0, 0, 6],\n",
        "    [0, 6, 0, 0, 0, 0, 2, 8, 0],\n",
        "    [0, 0, 0, 4, 1, 9, 0, 0, 5],\n",
        "    [0, 0, 0, 0, 8, 0, 0, 7, 9]\n",
        "]\n",
        "\n",
        "# Solve and print result\n",
        "print(\"Original Sudoku Puzzle:\\n\")\n",
        "print_board(board)\n",
        "\n",
        "if solve(board):\n",
        "    print(\"\\nSolved Sudoku Puzzle:\\n\")\n",
        "    print_board(board)\n",
        "else:\n",
        "    print(\"No solution exists for the given Sudoku.\")"
      ]
    }
  ]
}